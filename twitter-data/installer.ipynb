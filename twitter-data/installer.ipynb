{
 "cells": [
  {
   "cell_type": "markdown",
   "id": "a1eff35b",
   "metadata": {},
   "source": [
    "### Instalo librerias"
   ]
  },
  {
   "cell_type": "code",
   "execution_count": null,
   "id": "de4ffa94-f2f4-4a10-8a18-832268cb4db6",
   "metadata": {},
   "outputs": [],
   "source": [
    "# instalo librería para scrappear twitter\n",
    "pip install twscrape"
   ]
  },
  {
   "cell_type": "code",
   "execution_count": null,
   "id": "bae2e1ad-7016-4b7b-9b11-ec6cc787e8ec",
   "metadata": {},
   "outputs": [],
   "source": [
    "# upgradeo pandas para usar y guardar dataframes\n",
    "pip install --upgrade pandas"
   ]
  },
  {
   "cell_type": "markdown",
   "metadata": {},
   "source": [
    "### Inicio Sesion\n"
   ]
  },
  {
   "cell_type": "code",
   "execution_count": 1,
   "metadata": {},
   "outputs": [],
   "source": [
    "import asyncio\n",
    "from twscrape import API, gather\n",
    "from twscrape.logger import set_log_level\n",
    "import pandas as pd\n",
    "import datetime\n",
    "import os\n",
    "from dotenv import load_dotenv,dotenv_values"
   ]
  },
  {
   "cell_type": "code",
   "execution_count": 2,
   "metadata": {},
   "outputs": [],
   "source": [
    "# Cargar variables de entorno desde el archivo .env\n",
    "env_route = '.env'\n",
    "accounts = dotenv_values(env_route)"
   ]
  },
  {
   "cell_type": "code",
   "execution_count": 3,
   "metadata": {},
   "outputs": [],
   "source": [
    "# creo api para hacer las llamadas\n",
    "api = API()"
   ]
  },
  {
   "cell_type": "code",
   "execution_count": 4,
   "metadata": {},
   "outputs": [
    {
     "name": "stderr",
     "output_type": "stream",
     "text": [
      "\u001b[32m2023-11-28 18:07:47.402\u001b[0m | \u001b[33m\u001b[1mWARNING \u001b[0m | \u001b[36mtwscrape.accounts_pool\u001b[0m:\u001b[36madd_account\u001b[0m:\u001b[36m76\u001b[0m - \u001b[33m\u001b[1mAccount Factify763415 already exists\u001b[0m\n",
      "\u001b[32m2023-11-28 18:07:47.408\u001b[0m | \u001b[33m\u001b[1mWARNING \u001b[0m | \u001b[36mtwscrape.accounts_pool\u001b[0m:\u001b[36madd_account\u001b[0m:\u001b[36m76\u001b[0m - \u001b[33m\u001b[1mAccount verficator27498 already exists\u001b[0m\n",
      "\u001b[32m2023-11-28 18:07:47.414\u001b[0m | \u001b[33m\u001b[1mWARNING \u001b[0m | \u001b[36mtwscrape.accounts_pool\u001b[0m:\u001b[36madd_account\u001b[0m:\u001b[36m76\u001b[0m - \u001b[33m\u001b[1mAccount FactoJoven already exists\u001b[0m\n"
     ]
    }
   ],
   "source": [
    "# Agrego cuentas para poder acceder a twitter 3500 por dia por cuenta\n",
    "await api.pool.add_account(accounts[\"ACCOUNT_NAME1\"], accounts[\"ACCOUNT_PASS1\"], accounts[\"EMAIL1\"], accounts[\"EMAIL_PASS1\"])\n",
    "await api.pool.add_account(accounts[\"ACCOUNT_NAME2\"], accounts[\"ACCOUNT_PASS2\"], accounts[\"EMAIL2\"], accounts[\"EMAIL_PASS2\"])\n",
    "await api.pool.add_account(accounts[\"ACCOUNT_NAME3\"], accounts[\"ACCOUNT_PASS3\"], accounts[\"EMAIL3\"], accounts[\"EMAIL_PASS3\"])"
   ]
  },
  {
   "cell_type": "code",
   "execution_count": 5,
   "metadata": {},
   "outputs": [
    {
     "data": {
      "text/plain": [
       "{'total': 0, 'success': 0, 'failed': 0}"
      ]
     },
     "execution_count": 5,
     "metadata": {},
     "output_type": "execute_result"
    }
   ],
   "source": [
    "await api.pool.login_all()\n"
   ]
  }
 ],
 "metadata": {
  "kernelspec": {
   "display_name": "Python 3.12.0 64-bit ('3.12.0')",
   "language": "python",
   "name": "python3"
  },
  "language_info": {
   "codemirror_mode": {
    "name": "ipython",
    "version": 3
   },
   "file_extension": ".py",
   "mimetype": "text/x-python",
   "name": "python",
   "nbconvert_exporter": "python",
   "pygments_lexer": "ipython3",
   "version": "3.12.0"
  },
  "orig_nbformat": 4,
  "vscode": {
   "interpreter": {
    "hash": "825df0fcbad1e6ed7e11c1d53fafc04f4a658ad54114578619c88a90b04ca641"
   }
  }
 },
 "nbformat": 4,
 "nbformat_minor": 2
}
