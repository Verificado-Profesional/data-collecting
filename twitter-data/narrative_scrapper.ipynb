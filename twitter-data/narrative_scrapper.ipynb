{
 "cells": [
  {
   "cell_type": "markdown",
   "id": "36be49cd",
   "metadata": {},
   "source": [
    "## Proceso de Scrapping de Narrativas\n"
   ]
  },
  {
   "cell_type": "code",
   "execution_count": 2,
   "id": "5fc47a8d-7713-4ebe-bc9d-e428d31e1711",
   "metadata": {},
   "outputs": [],
   "source": [
    "import asyncio\n",
    "from twscrape import API, gather\n",
    "from twscrape.logger import set_log_level\n",
    "import pandas as pd\n",
    "import datetime\n",
    "import os\n",
    "from dotenv import load_dotenv,dotenv_values\n"
   ]
  },
  {
   "cell_type": "code",
   "execution_count": 4,
   "id": "3685ed45-e245-45cc-85c8-73eb9e805564",
   "metadata": {},
   "outputs": [],
   "source": [
    "# creo api para hacer las llamadas\n",
    "api = API()"
   ]
  },
  {
   "cell_type": "markdown",
   "id": "cdfbf656",
   "metadata": {},
   "source": [
    "### Defino funciones"
   ]
  },
  {
   "cell_type": "code",
   "execution_count": 10,
   "id": "d98add4a",
   "metadata": {},
   "outputs": [],
   "source": [
    "def save_info(dataset,filename):\n",
    "    df = pd.DataFrame(dataset)\n",
    "    df.to_csv(filename, index=False)"
   ]
  },
  {
   "cell_type": "code",
   "execution_count": 11,
   "id": "e3144c4e",
   "metadata": {},
   "outputs": [],
   "source": [
    "def read_and_concat(ruta,data):\n",
    "    df_new = pd.DataFrame(data)\n",
    "    df = pd.read_csv(ruta)\n",
    "    df_actualizado = pd.concat([df, df_new], ignore_index=True)\n",
    "    df_actualizado.to_csv(ruta, index=False)"
   ]
  },
  {
   "cell_type": "code",
   "execution_count": 12,
   "id": "e72c26e2",
   "metadata": {},
   "outputs": [],
   "source": [
    "def try_read_and_concat(ruta,data):\n",
    "    df_new = pd.DataFrame(data)\n",
    "    try: \n",
    "        df = pd.read_csv(ruta)\n",
    "        df_actualizado = pd.concat([df, df_new], ignore_index=True)\n",
    "        df_actualizado.to_csv(ruta, index=False)\n",
    "    except:\n",
    "        df = pd.DataFrame(data)\n",
    "        df.to_csv(ruta, index=False)\n",
    "   "
   ]
  },
  {
   "cell_type": "code",
   "execution_count": 15,
   "id": "58e8a78e",
   "metadata": {},
   "outputs": [],
   "source": [
    "async def get_top_tweets(keywords,limit=2000):\n",
    "    tweets = await gather(api.search(keywords, 2000, kv={\"product\": \"Top\"}))\n",
    "    return tweets"
   ]
  },
  {
   "cell_type": "code",
   "execution_count": 16,
   "id": "a43816ff",
   "metadata": {},
   "outputs": [],
   "source": [
    "def parse_narrative_tweets(tweets,narrativa=\"\",categoria=\"Tweet\"):\n",
    "    parsed_tweets = []\n",
    "    parsed_users = []\n",
    "    existing_ids = []\n",
    "    for tweet in tweets:\n",
    "            data_tweets = {\n",
    "                    'Tweet id': tweet.id,\n",
    "                    'Contenido': tweet.rawContent,\n",
    "                    'Fecha': tweet.date,\n",
    "                    'Categoria': categoria,\n",
    "                    'Autor username': tweet.user.username,\n",
    "                    'Autor displayname': tweet.user.displayname,\n",
    "                    'Autor location': tweet.user.location,\n",
    "                    'Link': tweet.url,\n",
    "                    'Likes': tweet.likeCount,\n",
    "                    'Respuestas': tweet.replyCount,\n",
    "                    'Retweets': tweet.retweetCount,\n",
    "                    'Hashtags': tweet.hashtags,\n",
    "                    'Mentioned users': tweet.mentionedUsers,\n",
    "                    'Narrativa':narrativa,\n",
    "                    'Lang': tweet.lang\n",
    "                }\n",
    "            parsed_tweets.append(data_tweets)\n",
    "\n",
    "            data_user = {\n",
    "                'User id': tweet.user.id,\n",
    "                'Autor username': tweet.user.username,\n",
    "                'Autor displayname': tweet.user.displayname,\n",
    "                'Autor location': tweet.user.location,\n",
    "                'Fecha Creacion': tweet.user.created,\n",
    "                'Link': tweet.user.url,\n",
    "                'Verified':tweet.user.verified,\n",
    "                'Followers': tweet.user.followersCount,\n",
    "                'Following': tweet.user.friendsCount,\n",
    "                'Tweets': tweet.user.statusesCount,\n",
    "            }\n",
    "\n",
    "            if tweet.user.id not in existing_ids:\n",
    "                parsed_users.append(data_user)\n",
    "                existing_ids.append(tweet.user.id)\n",
    "\n",
    "\n",
    "    return parsed_tweets,parsed_users"
   ]
  },
  {
   "cell_type": "markdown",
   "id": "b59b3287",
   "metadata": {},
   "source": [
    "### Obtengo tweets por narrativa"
   ]
  },
  {
   "cell_type": "code",
   "execution_count": 35,
   "id": "eaf6ec42",
   "metadata": {},
   "outputs": [],
   "source": [
    "top_fraude = await get_top_tweets(\"Argentina Fraude elecciones\",limit=2000)\n"
   ]
  },
  {
   "cell_type": "code",
   "execution_count": 36,
   "id": "c26d5027",
   "metadata": {},
   "outputs": [
    {
     "data": {
      "text/plain": [
       "188"
      ]
     },
     "execution_count": 36,
     "metadata": {},
     "output_type": "execute_result"
    }
   ],
   "source": [
    "len(top_fraude)"
   ]
  },
  {
   "cell_type": "code",
   "execution_count": 54,
   "id": "47676947",
   "metadata": {},
   "outputs": [],
   "source": [
    "t1,t2 = parse_narrative_tweets(top_fraude,\"Fraude\")"
   ]
  },
  {
   "cell_type": "markdown",
   "id": "58038d2d",
   "metadata": {},
   "source": [
    "### Obtengo narrativas\n"
   ]
  },
  {
   "cell_type": "code",
   "execution_count": 17,
   "id": "4b66bcb1",
   "metadata": {},
   "outputs": [],
   "source": [
    "async def scrape_and_save_narratives(keywords,narrativa,ruta_tweets='data/narrativas/tweets.csv',ruta_users='data/narrativas/users.csv',limit=2000):\n",
    "    tweets= await get_top_tweets(keywords,limit)\n",
    "    print(\"Se obtuvieron \" + str(len(tweets)) + \" Tweets de los keywords: \" + narrativa)\n",
    "    \n",
    "    parsed_tweets,parsed_user = parse_narrative_tweets(tweets,narrativa)\n",
    "    print(\"Se parsearon correctamente los tweets\")\n",
    "\n",
    "    try_read_and_concat(ruta_tweets,parsed_tweets)\n",
    "    try_read_and_concat(ruta_users,parsed_user)\n",
    "    print(\"Se almaceno correctamente\")"
   ]
  },
  {
   "cell_type": "code",
   "execution_count": 60,
   "id": "0e257024",
   "metadata": {},
   "outputs": [
    {
     "name": "stdout",
     "output_type": "stream",
     "text": [
      "Se obtuvieron 194 Tweets de los keywords: Fraude\n",
      "Se parsearon correctamente los tweets\n",
      "Se almaceno correctamente\n"
     ]
    }
   ],
   "source": [
    "await scrape_and_save_narratives(\"Argentina Fraude elecciones\",narrativa=\"Fraude\")\n"
   ]
  },
  {
   "cell_type": "code",
   "execution_count": null,
   "id": "1b7013d9",
   "metadata": {},
   "outputs": [],
   "source": [
    "#await scrape_and_save_narratives(\"Argentina Fraude elecciones\",narrativa=\"Fraude\")"
   ]
  },
  {
   "cell_type": "code",
   "execution_count": 4,
   "id": "26998b40",
   "metadata": {},
   "outputs": [
    {
     "data": {
      "text/plain": [
       "(194, 14)"
      ]
     },
     "execution_count": 4,
     "metadata": {},
     "output_type": "execute_result"
    }
   ],
   "source": [
    "df = pd.read_csv(\"data/narrativas/tweets.csv\")\n",
    "df.shape"
   ]
  },
  {
   "cell_type": "code",
   "execution_count": 5,
   "id": "96009325",
   "metadata": {},
   "outputs": [
    {
     "data": {
      "text/html": [
       "<div>\n",
       "<style scoped>\n",
       "    .dataframe tbody tr th:only-of-type {\n",
       "        vertical-align: middle;\n",
       "    }\n",
       "\n",
       "    .dataframe tbody tr th {\n",
       "        vertical-align: top;\n",
       "    }\n",
       "\n",
       "    .dataframe thead th {\n",
       "        text-align: right;\n",
       "    }\n",
       "</style>\n",
       "<table border=\"1\" class=\"dataframe\">\n",
       "  <thead>\n",
       "    <tr style=\"text-align: right;\">\n",
       "      <th></th>\n",
       "      <th>Tweet id</th>\n",
       "      <th>Contenido</th>\n",
       "      <th>Fecha</th>\n",
       "      <th>Categoria</th>\n",
       "      <th>Autor username</th>\n",
       "      <th>Autor displayname</th>\n",
       "      <th>Autor location</th>\n",
       "      <th>Link</th>\n",
       "      <th>Likes</th>\n",
       "      <th>Respuestas</th>\n",
       "      <th>Retweets</th>\n",
       "      <th>Hashtags</th>\n",
       "      <th>Mentioned users</th>\n",
       "      <th>Narrativa</th>\n",
       "    </tr>\n",
       "  </thead>\n",
       "  <tbody>\n",
       "    <tr>\n",
       "      <th>0</th>\n",
       "      <td>1717742780619845812</td>\n",
       "      <td>Argentina … más de siete nefastas décadas de p...</td>\n",
       "      <td>2023-10-27 03:19:27+00:00</td>\n",
       "      <td>Tweet</td>\n",
       "      <td>peladoMariano72</td>\n",
       "      <td>Aguante Militar 🇦🇷😸🦅🦆🦁🦍🚁🇸🇮</td>\n",
       "      <td>Argentina</td>\n",
       "      <td>https://twitter.com/peladoMariano72/status/171...</td>\n",
       "      <td>204</td>\n",
       "      <td>43</td>\n",
       "      <td>111</td>\n",
       "      <td>[]</td>\n",
       "      <td>[]</td>\n",
       "      <td>Fraude</td>\n",
       "    </tr>\n",
       "    <tr>\n",
       "      <th>1</th>\n",
       "      <td>1716824724876280133</td>\n",
       "      <td>ARGENTINA...\\n\\nASÍ ES COMO HICIERON EL FRAUDE...</td>\n",
       "      <td>2023-10-24 14:31:26+00:00</td>\n",
       "      <td>Tweet</td>\n",
       "      <td>deleon_efe</td>\n",
       "      <td>Efe Deleon</td>\n",
       "      <td>NaN</td>\n",
       "      <td>https://twitter.com/deleon_efe/status/17168247...</td>\n",
       "      <td>85</td>\n",
       "      <td>4</td>\n",
       "      <td>90</td>\n",
       "      <td>[]</td>\n",
       "      <td>[UserRef(id=1679055949, username='ALIENEGRO', ...</td>\n",
       "      <td>Fraude</td>\n",
       "    </tr>\n",
       "    <tr>\n",
       "      <th>2</th>\n",
       "      <td>1726251215661457845</td>\n",
       "      <td>🚨| URGENTE: Alertan de roturas a las boletas e...</td>\n",
       "      <td>2023-11-19 14:48:56+00:00</td>\n",
       "      <td>Tweet</td>\n",
       "      <td>eduardomenoni</td>\n",
       "      <td>Eduardo Menoni</td>\n",
       "      <td>Colombia/USA</td>\n",
       "      <td>https://twitter.com/eduardomenoni/status/17262...</td>\n",
       "      <td>4367</td>\n",
       "      <td>270</td>\n",
       "      <td>3299</td>\n",
       "      <td>[]</td>\n",
       "      <td>[]</td>\n",
       "      <td>Fraude</td>\n",
       "    </tr>\n",
       "    <tr>\n",
       "      <th>3</th>\n",
       "      <td>1716144908614918322</td>\n",
       "      <td>El gobierno de Argentina ya retrasó los result...</td>\n",
       "      <td>2023-10-22 17:30:05+00:00</td>\n",
       "      <td>Tweet</td>\n",
       "      <td>eduardomenoni</td>\n",
       "      <td>Eduardo Menoni</td>\n",
       "      <td>Colombia/USA</td>\n",
       "      <td>https://twitter.com/eduardomenoni/status/17161...</td>\n",
       "      <td>9479</td>\n",
       "      <td>345</td>\n",
       "      <td>3509</td>\n",
       "      <td>[]</td>\n",
       "      <td>[]</td>\n",
       "      <td>Fraude</td>\n",
       "    </tr>\n",
       "    <tr>\n",
       "      <th>4</th>\n",
       "      <td>1716249057004286328</td>\n",
       "      <td>🔴Lo que esta pasando en Argentina es lo mismo ...</td>\n",
       "      <td>2023-10-23 00:23:56+00:00</td>\n",
       "      <td>Tweet</td>\n",
       "      <td>medixi</td>\n",
       "      <td>MEDIXI</td>\n",
       "      <td>Concepción, Chile</td>\n",
       "      <td>https://twitter.com/medixi/status/171624905700...</td>\n",
       "      <td>810</td>\n",
       "      <td>64</td>\n",
       "      <td>446</td>\n",
       "      <td>[]</td>\n",
       "      <td>[]</td>\n",
       "      <td>Fraude</td>\n",
       "    </tr>\n",
       "  </tbody>\n",
       "</table>\n",
       "</div>"
      ],
      "text/plain": [
       "              Tweet id                                          Contenido  \\\n",
       "0  1717742780619845812  Argentina … más de siete nefastas décadas de p...   \n",
       "1  1716824724876280133  ARGENTINA...\\n\\nASÍ ES COMO HICIERON EL FRAUDE...   \n",
       "2  1726251215661457845  🚨| URGENTE: Alertan de roturas a las boletas e...   \n",
       "3  1716144908614918322  El gobierno de Argentina ya retrasó los result...   \n",
       "4  1716249057004286328  🔴Lo que esta pasando en Argentina es lo mismo ...   \n",
       "\n",
       "                       Fecha Categoria   Autor username  \\\n",
       "0  2023-10-27 03:19:27+00:00     Tweet  peladoMariano72   \n",
       "1  2023-10-24 14:31:26+00:00     Tweet       deleon_efe   \n",
       "2  2023-11-19 14:48:56+00:00     Tweet    eduardomenoni   \n",
       "3  2023-10-22 17:30:05+00:00     Tweet    eduardomenoni   \n",
       "4  2023-10-23 00:23:56+00:00     Tweet           medixi   \n",
       "\n",
       "            Autor displayname     Autor location  \\\n",
       "0  Aguante Militar 🇦🇷😸🦅🦆🦁🦍🚁🇸🇮          Argentina   \n",
       "1                  Efe Deleon                NaN   \n",
       "2              Eduardo Menoni       Colombia/USA   \n",
       "3              Eduardo Menoni       Colombia/USA   \n",
       "4                      MEDIXI  Concepción, Chile   \n",
       "\n",
       "                                                Link  Likes  Respuestas  \\\n",
       "0  https://twitter.com/peladoMariano72/status/171...    204          43   \n",
       "1  https://twitter.com/deleon_efe/status/17168247...     85           4   \n",
       "2  https://twitter.com/eduardomenoni/status/17262...   4367         270   \n",
       "3  https://twitter.com/eduardomenoni/status/17161...   9479         345   \n",
       "4  https://twitter.com/medixi/status/171624905700...    810          64   \n",
       "\n",
       "   Retweets Hashtags                                    Mentioned users  \\\n",
       "0       111       []                                                 []   \n",
       "1        90       []  [UserRef(id=1679055949, username='ALIENEGRO', ...   \n",
       "2      3299       []                                                 []   \n",
       "3      3509       []                                                 []   \n",
       "4       446       []                                                 []   \n",
       "\n",
       "  Narrativa  \n",
       "0    Fraude  \n",
       "1    Fraude  \n",
       "2    Fraude  \n",
       "3    Fraude  \n",
       "4    Fraude  "
      ]
     },
     "execution_count": 5,
     "metadata": {},
     "output_type": "execute_result"
    }
   ],
   "source": [
    "df.head()"
   ]
  },
  {
   "cell_type": "code",
   "execution_count": 6,
   "id": "ed675b26",
   "metadata": {},
   "outputs": [
    {
     "data": {
      "text/plain": [
       "Narrativa\n",
       "Fraude    194\n",
       "Name: count, dtype: int64"
      ]
     },
     "execution_count": 6,
     "metadata": {},
     "output_type": "execute_result"
    }
   ],
   "source": [
    "df['Narrativa'].value_counts()"
   ]
  },
  {
   "cell_type": "code",
   "execution_count": 7,
   "id": "48fb557b",
   "metadata": {},
   "outputs": [
    {
     "data": {
      "text/plain": [
       "Autor username\n",
       "eduardomenoni     4\n",
       "fedetiberti       2\n",
       "RDiosmel2         2\n",
       "Karblack19        2\n",
       "AnibalGarzon      2\n",
       "carolina_moine    2\n",
       "OldArg1810        2\n",
       "evoespueblo       2\n",
       "coralai_          2\n",
       "ArgDiegote        2\n",
       "CoralAINews       2\n",
       "BizAnyio          2\n",
       "alsersocimo       1\n",
       "heroudr           1\n",
       "ABCDigital        1\n",
       "Jhoanromerofv     1\n",
       "ARGprovincia25    1\n",
       "lorstar08         1\n",
       "MODO_Arg          1\n",
       "ixXFelixXxi       1\n",
       "Name: count, dtype: int64"
      ]
     },
     "execution_count": 7,
     "metadata": {},
     "output_type": "execute_result"
    }
   ],
   "source": [
    "autors = df['Autor username'].value_counts()\n",
    "\n",
    "\n",
    "autors.head(n=20)\n"
   ]
  },
  {
   "cell_type": "markdown",
   "id": "2672d8cf",
   "metadata": {},
   "source": [
    "### Analizo las narrativas"
   ]
  }
 ],
 "metadata": {
  "kernelspec": {
   "display_name": "Python 3.12.0 64-bit ('3.12.0')",
   "language": "python",
   "name": "python3"
  },
  "language_info": {
   "codemirror_mode": {
    "name": "ipython",
    "version": 3
   },
   "file_extension": ".py",
   "mimetype": "text/x-python",
   "name": "python",
   "nbconvert_exporter": "python",
   "pygments_lexer": "ipython3",
   "version": "3.12.0"
  },
  "vscode": {
   "interpreter": {
    "hash": "825df0fcbad1e6ed7e11c1d53fafc04f4a658ad54114578619c88a90b04ca641"
   }
  }
 },
 "nbformat": 4,
 "nbformat_minor": 5
}
