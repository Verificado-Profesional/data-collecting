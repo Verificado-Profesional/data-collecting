{
  "cells": [
    {
      "cell_type": "markdown",
      "metadata": {
        "id": "5eWXWYLKEWFA"
      },
      "source": [
        "#Recolección de datos de Telegram\n"
      ]
    },
    {
      "cell_type": "markdown",
      "metadata": {
        "id": "a4QJAnrHEhbv"
      },
      "source": [
        "### Instalo librería de Telegram\n",
        "\n",
        "[Telegram Tracker](https://github.com/estebanpdl/telegram-tracker): Este paquete se conecta con la API de telegram para generar archivos JSON con data de canales, incluyendo inmformacion y posts."
      ]
    },
    {
      "cell_type": "code",
      "execution_count": null,
      "metadata": {
        "colab": {
          "base_uri": "https://localhost:8080/"
        },
        "id": "Dn6IdNdXEGc9",
        "outputId": "870fcd19-5f5b-488a-a578-7b7de815696a"
      },
      "outputs": [],
      "source": [
        "!git clone https://github.com/estebanpdl/telegram-tracker.git"
      ]
    },
    {
      "cell_type": "code",
      "execution_count": null,
      "metadata": {
        "colab": {
          "base_uri": "https://localhost:8080/"
        },
        "id": "XhHMxl5xEghI",
        "outputId": "1eb80128-8088-4e09-b772-5caa48abbc06"
      },
      "outputs": [],
      "source": [
        "%cd telegram-tracker\n",
        "\n",
        "# install requirements\n",
        "!pip install -r requirements.txt\n",
        "\n",
        "# return to default's colab folder\n",
        "%cd /content/"
      ]
    },
    {
      "cell_type": "markdown",
      "metadata": {
        "id": "G6yrFO91j201"
      },
      "source": [
        "### `Pasos`\n",
        "\n",
        "- Crear dos directorios:\n",
        "    - telegram\n",
        "    - osintgpt\n",
        "        - agrego `.env` file\n",
        "- Agrego las API Keys de telegram en el archivo `config.ini` en telegram-tracker"
      ]
    },
    {
      "cell_type": "markdown",
      "metadata": {},
      "source": [
        "### Instalo librería de OSINTGPT\n",
        "\n",
        "[OSINTGPT](https://github.com/estebanpdl/telegram-tracker): Una herramienta de código abierto (OSINT) que aprovecha las virtudes de GPT y los motores de búsqueda vectorial para un procesamiento de datos eficiente."
      ]
    },
    {
      "cell_type": "code",
      "execution_count": null,
      "metadata": {},
      "outputs": [],
      "source": [
        "!pip install osintgpt"
      ]
    }
  ],
  "metadata": {
    "colab": {
      "provenance": []
    },
    "kernelspec": {
      "display_name": "Python 3.8.10 64-bit",
      "language": "python",
      "name": "python3"
    },
    "language_info": {
      "codemirror_mode": {
        "name": "ipython",
        "version": 3
      },
      "file_extension": ".py",
      "mimetype": "text/x-python",
      "name": "python",
      "nbconvert_exporter": "python",
      "pygments_lexer": "ipython3",
      "version": "3.8.10"
    },
    "vscode": {
      "interpreter": {
        "hash": "916dbcbb3f70747c44a77c7bcd40155683ae19c65e1c03b4aa3499c5328201f1"
      }
    }
  },
  "nbformat": 4,
  "nbformat_minor": 0
}
